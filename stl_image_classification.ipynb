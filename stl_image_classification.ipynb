{
 "cells": [
  {
   "cell_type": "code",
   "execution_count": 1,
   "metadata": {},
   "outputs": [],
   "source": [
    "import torch\n",
    "import torch.nn as nn\n",
    "import torch.nn.functional as F\n",
    "import torch.optim as optim\n",
    "from torchvision import datasets, transforms\n",
    "from torch.optim.lr_scheduler import StepLR\n",
    "import matplotlib.pyplot as plt\n",
    "\n",
    "# Parameters\n",
    "batch_size = 64\n",
    "learning_rate = 0.02\n",
    "num_epoches = 5\n",
    "gamma = 0.7\n",
    "log_interval = 200"
   ]
  },
  {
   "cell_type": "code",
   "execution_count": 2,
   "metadata": {},
   "outputs": [],
   "source": [
    "# Load dataset\n",
    "transform = transforms.Compose(\n",
    "    [transforms.ToTensor(),\n",
    "    transforms.Normalize([0.5], [0.5])])\n",
    "\n",
    "train_dataset = datasets.MNIST(root='./data', train=True, transform=transform, download=True)\n",
    "test_dataset = datasets.MNIST(root='./data', train=False, transform=transform)\n",
    "train_loader = torch.utils.data.DataLoader(train_dataset, batch_size=batch_size, shuffle=True)\n",
    "test_loader = torch.utils.data.DataLoader(test_dataset, batch_size=batch_size, shuffle=False)"
   ]
  },
  {
   "cell_type": "code",
   "execution_count": 3,
   "metadata": {},
   "outputs": [
    {
     "name": "stdout",
     "output_type": "stream",
     "text": [
      "PyTorch will run on cuda device\n"
     ]
    }
   ],
   "source": [
    "# Reference :\n",
    "# https://github.com/pytorch/examples/blob/main/mnist/main.py\n",
    "class Net(nn.Module):\n",
    "    def __init__(self):\n",
    "        super(Net, self).__init__()\n",
    "        self.conv1 = nn.Conv2d(1, 32, 3, 1)\n",
    "        self.conv2 = nn.Conv2d(32, 64, 3, 1)\n",
    "        self.dropout1 = nn.Dropout(0.25)\n",
    "        self.dropout2 = nn.Dropout(0.5)\n",
    "        self.fc1 = nn.Linear(9216, 128)\n",
    "        self.fc2 = nn.Linear(128, 10)\n",
    "\n",
    "    def forward(self, x):\n",
    "        x = self.conv1(x)\n",
    "        x = F.relu(x)\n",
    "        x = self.conv2(x)\n",
    "        x = F.relu(x)\n",
    "        x = F.max_pool2d(x, 2)\n",
    "        x = self.dropout1(x)\n",
    "        x = torch.flatten(x, 1)\n",
    "        x = self.fc1(x)\n",
    "        x = F.relu(x)\n",
    "        x = self.dropout2(x)\n",
    "        x = self.fc2(x)\n",
    "        output = F.log_softmax(x, dim=1)\n",
    "        return output\n",
    "\n",
    "device_name = \"cuda\" if torch.cuda.is_available() else \"cpu\"\n",
    "print(f\"PyTorch will run on {device_name} device\")\n",
    "device = torch.device(device_name)\n",
    "model = Net().to(device)\n",
    "optimizer = optim.Adadelta(model.parameters(), lr=learning_rate)"
   ]
  },
  {
   "cell_type": "code",
   "execution_count": 4,
   "metadata": {},
   "outputs": [],
   "source": [
    "def train(model, device, train_loader, optimizer, epoch):\n",
    "    model.train()\n",
    "    train_loss = 0\n",
    "    for batch_idx, (data, target) in enumerate(train_loader):\n",
    "        data, target = data.to(device), target.to(device)\n",
    "        optimizer.zero_grad()\n",
    "        output = model(data)\n",
    "        loss = F.nll_loss(output, target)\n",
    "        loss.backward()\n",
    "        optimizer.step()\n",
    "        if batch_idx % log_interval == 0:\n",
    "            print('Train Epoch: {} [{}/{} ({:.0f}%)]\\tLoss: {:.6f}'.format(\n",
    "                epoch, batch_idx * len(data), len(train_loader.dataset),\n",
    "                100. * batch_idx / len(train_loader), loss.item()))\n",
    "\n",
    "        train_loss += loss.item()\n",
    "\n",
    "    return train_loss * train_loader.batch_size / len(train_loader.dataset)\n",
    "\n",
    "def test(model, device, test_loader):\n",
    "    model.eval()\n",
    "    test_loss = 0\n",
    "    correct = 0\n",
    "    with torch.no_grad():\n",
    "        for data, target in test_loader:\n",
    "            data, target = data.to(device), target.to(device)\n",
    "            output = model(data)\n",
    "            test_loss += F.nll_loss(output, target, reduction='sum').item()  # sum up batch loss\n",
    "            pred = output.argmax(dim=1, keepdim=True)  # get the index of the max log-probability\n",
    "            correct += pred.eq(target.view_as(pred)).sum().item()\n",
    "\n",
    "    test_loss /= len(test_loader.dataset)\n",
    "\n",
    "    print('\\nTest set: Average loss: {:.4f}, Accuracy: {}/{} ({:.0f}%)\\n'.format(\n",
    "        test_loss, correct, len(test_loader.dataset),\n",
    "        100. * correct / len(test_loader.dataset)))\n",
    "\n",
    "    return test_loss"
   ]
  },
  {
   "cell_type": "code",
   "execution_count": 5,
   "metadata": {},
   "outputs": [
    {
     "name": "stdout",
     "output_type": "stream",
     "text": [
      "Train Epoch: 1 [0/60000 (0%)]\tLoss: 2.307993\n",
      "Train Epoch: 1 [12800/60000 (21%)]\tLoss: 0.882122\n",
      "Train Epoch: 1 [25600/60000 (43%)]\tLoss: 0.361992\n",
      "Train Epoch: 1 [38400/60000 (64%)]\tLoss: 0.292154\n",
      "Train Epoch: 1 [51200/60000 (85%)]\tLoss: 0.282455\n",
      "\n",
      "Test set: Average loss: 0.2504, Accuracy: 9293/10000 (93%)\n",
      "\n",
      "Train Epoch: 2 [0/60000 (0%)]\tLoss: 0.525784\n",
      "Train Epoch: 2 [12800/60000 (21%)]\tLoss: 0.339000\n",
      "Train Epoch: 2 [25600/60000 (43%)]\tLoss: 0.385175\n",
      "Train Epoch: 2 [38400/60000 (64%)]\tLoss: 0.210137\n",
      "Train Epoch: 2 [51200/60000 (85%)]\tLoss: 0.277513\n",
      "\n",
      "Test set: Average loss: 0.1768, Accuracy: 9475/10000 (95%)\n",
      "\n",
      "Train Epoch: 3 [0/60000 (0%)]\tLoss: 0.204720\n",
      "Train Epoch: 3 [12800/60000 (21%)]\tLoss: 0.297781\n",
      "Train Epoch: 3 [25600/60000 (43%)]\tLoss: 0.316516\n",
      "Train Epoch: 3 [38400/60000 (64%)]\tLoss: 0.198827\n",
      "Train Epoch: 3 [51200/60000 (85%)]\tLoss: 0.219763\n",
      "\n",
      "Test set: Average loss: 0.1459, Accuracy: 9564/10000 (96%)\n",
      "\n",
      "Train Epoch: 4 [0/60000 (0%)]\tLoss: 0.312407\n",
      "Train Epoch: 4 [12800/60000 (21%)]\tLoss: 0.302962\n",
      "Train Epoch: 4 [25600/60000 (43%)]\tLoss: 0.295714\n",
      "Train Epoch: 4 [38400/60000 (64%)]\tLoss: 0.315834\n",
      "Train Epoch: 4 [51200/60000 (85%)]\tLoss: 0.114810\n",
      "\n",
      "Test set: Average loss: 0.1337, Accuracy: 9617/10000 (96%)\n",
      "\n",
      "Train Epoch: 5 [0/60000 (0%)]\tLoss: 0.171990\n",
      "Train Epoch: 5 [12800/60000 (21%)]\tLoss: 0.149997\n",
      "Train Epoch: 5 [25600/60000 (43%)]\tLoss: 0.156391\n",
      "Train Epoch: 5 [38400/60000 (64%)]\tLoss: 0.145193\n",
      "Train Epoch: 5 [51200/60000 (85%)]\tLoss: 0.323176\n",
      "\n",
      "Test set: Average loss: 0.1220, Accuracy: 9643/10000 (96%)\n",
      "\n"
     ]
    }
   ],
   "source": [
    "scheduler = StepLR(optimizer, step_size=1, gamma=gamma)\n",
    "train_losses = []\n",
    "test_losses = []\n",
    "for epoch in range(1, num_epoches + 1):\n",
    "    train_loss = train(model, device, train_loader, optimizer, epoch)\n",
    "    test_loss = test(model, device, test_loader)\n",
    "    scheduler.step()\n",
    "\n",
    "    train_losses.append(train_loss)\n",
    "    test_losses.append(test_loss)"
   ]
  },
  {
   "cell_type": "code",
   "execution_count": 7,
   "metadata": {},
   "outputs": [
    {
     "data": {
      "image/png": "[encoded data removed]",
      "text/plain": [
       "<Figure size 432x288 with 1 Axes>"
      ]
     },
     "metadata": {
      "needs_background": "light"
     },
     "output_type": "display_data"
    }
   ],
   "source": [
    "plt.figure()\n",
    "plt.title('train loss')\n",
    "plt.plot(train_losses)\n",
    "plt.plot(test_losses)\n",
    "plt.legend([r'train loss', r'test loss'])\n",
    "plt.show()"
   ]
  }
 ],
 "metadata": {
  "interpreter": {
   "hash": "3b2cbf890e8f3765bc298c5c1dc4e81a8399330411f28d39ec51990032d20ebd"
  },
  "kernelspec": {
   "display_name": "Python 3.8.11 ('pytorch')",
   "language": "python",
   "name": "python3"
  },
  "language_info": {
   "codemirror_mode": {
    "name": "ipython",
    "version": 3
   },
   "file_extension": ".py",
   "mimetype": "text/x-python",
   "name": "python",
   "nbconvert_exporter": "python",
   "pygments_lexer": "ipython3",
   "version": "3.7.11"
  },
  "orig_nbformat": 4
 },
 "nbformat": 4,
 "nbformat_minor": 2
}
