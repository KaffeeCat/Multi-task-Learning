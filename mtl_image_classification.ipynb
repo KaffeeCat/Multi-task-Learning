{
 "cells": [
  {
   "cell_type": "code",
   "execution_count": 1,
   "metadata": {},
   "outputs": [],
   "source": [
    "import torch\n",
    "import torch.nn as nn\n",
    "import torch.nn.functional as F\n",
    "import torch.optim as optim\n",
    "from torchvision import datasets, transforms\n",
    "from torch.optim.lr_scheduler import StepLR\n",
    "from torchmtl import MTLModel\n",
    "from torchmtl.wrapping_layers import Concat\n",
    "import matplotlib.pyplot as plt\n",
    "import networkx as nx\n",
    "import numpy as np\n",
    "np.random.seed(0)\n",
    "torch.manual_seed(0)\n",
    "\n",
    "# Parameters\n",
    "batch_size = 64\n",
    "learning_rate = 0.02\n",
    "num_epoches = 15\n",
    "gamma = 0.7\n",
    "log_interval = 200"
   ]
  },
  {
   "cell_type": "code",
   "execution_count": 2,
   "metadata": {},
   "outputs": [],
   "source": [
    "# Load dataset\n",
    "transform = transforms.Compose(\n",
    "    [transforms.ToTensor(),\n",
    "    transforms.Normalize([0.5], [0.5])])\n",
    "\n",
    "train_dataset = datasets.MNIST(root='./data', train=True, transform=transform, download=True)\n",
    "test_dataset = datasets.MNIST(root='./data', train=False, transform=transform)\n",
    "train_loader = torch.utils.data.DataLoader(train_dataset, batch_size=batch_size, shuffle=True)\n",
    "test_loader = torch.utils.data.DataLoader(test_dataset, batch_size=batch_size, shuffle=False)"
   ]
  },
  {
   "cell_type": "code",
   "execution_count": 3,
   "metadata": {},
   "outputs": [
    {
     "name": "stdout",
     "output_type": "stream",
     "text": [
      "PyTorch will run on cuda device\n"
     ]
    },
    {
     "data": {
      "image/png": "[encoded data removed]",
      "text/plain": [
       "<Figure size 432x288 with 1 Axes>"
      ]
     },
     "metadata": {},
     "output_type": "display_data"
    }
   ],
   "source": [
    "# Define a loss function that returns the log vars\n",
    "class MultiTaskLossWrapper(nn.Module):\n",
    "    def __init__(self, num_tasks):\n",
    "        super(MultiTaskLossWrapper, self).__init__()\n",
    "        self.num_tasks = num_tasks\n",
    "        self.log_vars = nn.Parameter(torch.zeros((num_tasks)))\n",
    "\n",
    "    def forward(self, *X):\n",
    "        # Return the log vars so precision can be computed\n",
    "        # in the training loop. Also return the predictions.\n",
    "        return self.log_vars, X\n",
    "\n",
    "\n",
    "# Define MTL tasks\n",
    "tasks = [\n",
    "        {\n",
    "            'name': \"Backbone\",\n",
    "            'layers': nn.Sequential(*[\n",
    "                nn.Conv2d(1, 32, 3, 1), \n",
    "                nn.ReLU(),\n",
    "                nn.Conv2d(32, 64, 3, 1), \n",
    "                nn.ReLU(),\n",
    "                nn.MaxPool2d(2),\n",
    "                nn.Dropout(0.25),\n",
    "                nn.Flatten()\n",
    "                ]),\n",
    "            # No anchor_layer means this layer receives input directly\n",
    "        },    \n",
    "        {\n",
    "            'name': \"Head1\",\n",
    "            'layers': nn.Sequential(*[\n",
    "                nn.Linear(9216, 256), \n",
    "                nn.ReLU(), \n",
    "                nn.Dropout(0.5), \n",
    "                nn.Linear(256, 10), \n",
    "                nn.LogSoftmax(dim=1)\n",
    "                ]),\n",
    "            'anchor_layer': \"Backbone\"\n",
    "        },    \n",
    "        {\n",
    "            'name': \"Head2\",\n",
    "            'layers': nn.Sequential(*[\n",
    "                nn.Linear(9216, 32), \n",
    "                nn.ReLU(), \n",
    "                nn.Dropout(0.5), \n",
    "                nn.Linear(32, 10), \n",
    "                nn.LogSoftmax(dim=1)\n",
    "                ]),\n",
    "            'anchor_layer': \"Backbone\"\n",
    "        },\n",
    "        {\n",
    "            'name': \"MultiLoss\",\n",
    "            'layers': MultiTaskLossWrapper(num_tasks=2),\n",
    "            'anchor_layer': ['Head1', 'Head2']\n",
    "        }\n",
    "    ]\n",
    "\n",
    "device_name = \"cuda\" if torch.cuda.is_available() else \"cpu\"\n",
    "print(f\"PyTorch will run on {device_name} device\")\n",
    "device = torch.device(device_name)\n",
    "model = MTLModel(tasks, output_tasks=['MultiLoss']).to(device)\n",
    "\n",
    "\n",
    "# Visualize MTL architecture\n",
    "pos = nx.shell_layout(model.g)\n",
    "nx.draw(model.g, pos, font_size=14, node_color=\"c\", node_size=1000, with_labels=True)\n",
    "plt.show()"
   ]
  },
  {
   "cell_type": "code",
   "execution_count": 4,
   "metadata": {},
   "outputs": [],
   "source": [
    "def train(model, device, train_loader, optimizer, epoch):\n",
    "    model.train()\n",
    "    train_loss = 0\n",
    "    for batch_idx, (data, target) in enumerate(train_loader):\n",
    "\n",
    "        optimizer.zero_grad()\n",
    "\n",
    "        # Predict multi-task outputs\n",
    "        data, target = data.to(device), target.to(device)\n",
    "        multi_loss_out, _, _ = model(data)\n",
    "        log_vars = multi_loss_out[0][0]\n",
    "        softmax_out = multi_loss_out[0][1]\n",
    "        task_num = len(softmax_out)\n",
    "\n",
    "        # Compute loss of each task and weight them\n",
    "        loss = 0\n",
    "        for i in range(task_num):\n",
    "            precision = torch.exp(-log_vars[i])\n",
    "            diff = F.nll_loss(softmax_out[i], target)\n",
    "            loss += torch.sum(precision * diff + log_vars[i], -1)\n",
    "        loss = torch.mean(loss)\n",
    "        loss.backward()\n",
    "        optimizer.step()\n",
    "\n",
    "        train_loss += loss.item()\n",
    "        \n",
    "        log_vars = log_vars.cpu().detach().numpy().copy()\n",
    "        if batch_idx % log_interval == 0:\n",
    "            print('Train Epoch: {} [{}/{} ({:.0f}%)]\\tLoss: {:.6f}\\tSigma: {}'.format(\n",
    "                epoch, batch_idx * len(data), len(train_loader.dataset),\n",
    "                100. * batch_idx / len(train_loader), loss.item(), np.sqrt(np.exp(log_vars))))\n",
    "\n",
    "    return train_loss * train_loader.batch_size / len(train_loader.dataset), log_vars"
   ]
  },
  {
   "cell_type": "code",
   "execution_count": 5,
   "metadata": {},
   "outputs": [
    {
     "name": "stdout",
     "output_type": "stream",
     "text": [
      "Train Epoch: 1 [0/60000 (0%)]\tLoss: 4.661347\tSigma: [1.0000316 1.0000316]\n",
      "Train Epoch: 1 [12800/60000 (21%)]\tLoss: 1.669427\tSigma: [1.0010552 1.0056251]\n",
      "Train Epoch: 1 [25600/60000 (43%)]\tLoss: 1.405144\tSigma: [0.9884001 1.0041252]\n",
      "Train Epoch: 1 [38400/60000 (64%)]\tLoss: 1.055774\tSigma: [0.97219324 0.9966178 ]\n",
      "Train Epoch: 1 [51200/60000 (85%)]\tLoss: 0.687395\tSigma: [0.95415205 0.9868841 ]\n",
      "Train Epoch: 2 [0/60000 (0%)]\tLoss: 0.870839\tSigma: [0.9411384  0.97886926]\n",
      "Train Epoch: 2 [12800/60000 (21%)]\tLoss: 0.709615\tSigma: [0.9270749  0.97013974]\n",
      "Train Epoch: 2 [25600/60000 (43%)]\tLoss: 0.513418\tSigma: [0.91281545 0.96111554]\n",
      "Train Epoch: 2 [38400/60000 (64%)]\tLoss: 0.414846\tSigma: [0.8983409 0.9520952]\n",
      "Train Epoch: 2 [51200/60000 (85%)]\tLoss: 0.591800\tSigma: [0.88374966 0.9427753 ]\n",
      "Train Epoch: 3 [0/60000 (0%)]\tLoss: 0.258336\tSigma: [0.87354386 0.9363853 ]\n",
      "Train Epoch: 3 [12800/60000 (21%)]\tLoss: 0.254737\tSigma: [0.86306566 0.92972887]\n",
      "Train Epoch: 3 [25600/60000 (43%)]\tLoss: 0.290085\tSigma: [0.8524967 0.9231266]\n",
      "Train Epoch: 3 [38400/60000 (64%)]\tLoss: 0.216274\tSigma: [0.8419606 0.9165526]\n",
      "Train Epoch: 3 [51200/60000 (85%)]\tLoss: -0.004553\tSigma: [0.8312293 0.9097866]\n",
      "Train Epoch: 4 [0/60000 (0%)]\tLoss: 0.051973\tSigma: [0.82394034 0.90501565]\n",
      "Train Epoch: 4 [12800/60000 (21%)]\tLoss: 0.352588\tSigma: [0.81649    0.90015805]\n",
      "Train Epoch: 4 [25600/60000 (43%)]\tLoss: -0.060346\tSigma: [0.8092134  0.89556354]\n",
      "Train Epoch: 4 [38400/60000 (64%)]\tLoss: -0.056946\tSigma: [0.8020055  0.89098763]\n",
      "Train Epoch: 4 [51200/60000 (85%)]\tLoss: -0.163919\tSigma: [0.79489017 0.88650763]\n",
      "Train Epoch: 5 [0/60000 (0%)]\tLoss: -0.248492\tSigma: [0.78994215 0.8835101 ]\n",
      "Train Epoch: 5 [12800/60000 (21%)]\tLoss: -0.266801\tSigma: [0.7849769  0.88041925]\n",
      "Train Epoch: 5 [25600/60000 (43%)]\tLoss: 0.039437\tSigma: [0.7801242 0.8774345]\n",
      "Train Epoch: 5 [38400/60000 (64%)]\tLoss: -0.117556\tSigma: [0.7752309 0.8742792]\n",
      "Train Epoch: 5 [51200/60000 (85%)]\tLoss: 0.187634\tSigma: [0.77039284 0.87119675]\n",
      "Train Epoch: 6 [0/60000 (0%)]\tLoss: -0.020284\tSigma: [0.76703644 0.8690361 ]\n",
      "Train Epoch: 6 [12800/60000 (21%)]\tLoss: -0.138309\tSigma: [0.76361716 0.86684245]\n",
      "Train Epoch: 6 [25600/60000 (43%)]\tLoss: -0.014978\tSigma: [0.7602582  0.86470467]\n",
      "Train Epoch: 6 [38400/60000 (64%)]\tLoss: -0.425261\tSigma: [0.7569001  0.86262673]\n",
      "Train Epoch: 6 [51200/60000 (85%)]\tLoss: -0.323822\tSigma: [0.75363153 0.8605962 ]\n",
      "Train Epoch: 7 [0/60000 (0%)]\tLoss: 0.051516\tSigma: [0.7513926 0.8591978]\n",
      "Train Epoch: 7 [12800/60000 (21%)]\tLoss: -0.192620\tSigma: [0.7490899 0.8577665]\n",
      "Train Epoch: 7 [25600/60000 (43%)]\tLoss: -0.475353\tSigma: [0.7468069 0.8562828]\n",
      "Train Epoch: 7 [38400/60000 (64%)]\tLoss: -0.498145\tSigma: [0.7445589 0.8548213]\n",
      "Train Epoch: 7 [51200/60000 (85%)]\tLoss: -0.421768\tSigma: [0.74229884 0.8533485 ]\n",
      "Train Epoch: 8 [0/60000 (0%)]\tLoss: -0.470961\tSigma: [0.7407486 0.8523654]\n",
      "Train Epoch: 8 [12800/60000 (21%)]\tLoss: -0.416857\tSigma: [0.739195   0.85136276]\n",
      "Train Epoch: 8 [25600/60000 (43%)]\tLoss: -0.033149\tSigma: [0.7376614 0.850337 ]\n",
      "Train Epoch: 8 [38400/60000 (64%)]\tLoss: -0.669741\tSigma: [0.73614204 0.84931827]\n",
      "Train Epoch: 8 [51200/60000 (85%)]\tLoss: -0.228949\tSigma: [0.73456854 0.8482751 ]\n",
      "Train Epoch: 9 [0/60000 (0%)]\tLoss: -0.388039\tSigma: [0.7335065 0.8475695]\n",
      "Train Epoch: 9 [12800/60000 (21%)]\tLoss: -0.403549\tSigma: [0.7324415 0.8468648]\n",
      "Train Epoch: 9 [25600/60000 (43%)]\tLoss: -0.296081\tSigma: [0.7313766 0.8461855]\n",
      "Train Epoch: 9 [38400/60000 (64%)]\tLoss: 0.739466\tSigma: [0.73031783 0.84551036]\n",
      "Train Epoch: 9 [51200/60000 (85%)]\tLoss: -0.692035\tSigma: [0.72925586 0.8448263 ]\n",
      "Train Epoch: 10 [0/60000 (0%)]\tLoss: -0.550789\tSigma: [0.7285128  0.84433067]\n",
      "Train Epoch: 10 [12800/60000 (21%)]\tLoss: -0.520832\tSigma: [0.7277606 0.8438368]\n",
      "Train Epoch: 10 [25600/60000 (43%)]\tLoss: -0.486482\tSigma: [0.72701657 0.84335387]\n",
      "Train Epoch: 10 [38400/60000 (64%)]\tLoss: -0.499650\tSigma: [0.7262728 0.842858 ]\n",
      "Train Epoch: 10 [51200/60000 (85%)]\tLoss: -0.479490\tSigma: [0.72553533 0.8423703 ]\n",
      "Train Epoch: 11 [0/60000 (0%)]\tLoss: -0.613790\tSigma: [0.72502995 0.84203964]\n",
      "Train Epoch: 11 [12800/60000 (21%)]\tLoss: -0.323469\tSigma: [0.72451645 0.84170383]\n",
      "Train Epoch: 11 [25600/60000 (43%)]\tLoss: -0.519115\tSigma: [0.72400665 0.8413756 ]\n",
      "Train Epoch: 11 [38400/60000 (64%)]\tLoss: -0.206903\tSigma: [0.72350276 0.8410541 ]\n",
      "Train Epoch: 11 [51200/60000 (85%)]\tLoss: -0.184323\tSigma: [0.7230035 0.8407322]\n",
      "Train Epoch: 12 [0/60000 (0%)]\tLoss: -0.389969\tSigma: [0.72264737 0.84050775]\n",
      "Train Epoch: 12 [12800/60000 (21%)]\tLoss: -0.640838\tSigma: [0.722284   0.84027123]\n",
      "Train Epoch: 12 [25600/60000 (43%)]\tLoss: -0.385251\tSigma: [0.72192323 0.84003735]\n",
      "Train Epoch: 12 [38400/60000 (64%)]\tLoss: -0.173021\tSigma: [0.72157353 0.83980733]\n",
      "Train Epoch: 12 [51200/60000 (85%)]\tLoss: -0.194345\tSigma: [0.7212141  0.83958113]\n",
      "Train Epoch: 13 [0/60000 (0%)]\tLoss: -0.083245\tSigma: [0.7209673 0.8394263]\n",
      "Train Epoch: 13 [12800/60000 (21%)]\tLoss: -0.150651\tSigma: [0.7207144 0.8392633]\n",
      "Train Epoch: 13 [25600/60000 (43%)]\tLoss: -0.608122\tSigma: [0.7204638 0.8391057]\n",
      "Train Epoch: 13 [38400/60000 (64%)]\tLoss: -0.253448\tSigma: [0.7202145 0.8389485]\n",
      "Train Epoch: 13 [51200/60000 (85%)]\tLoss: -0.075109\tSigma: [0.7199637 0.8387934]\n",
      "Train Epoch: 14 [0/60000 (0%)]\tLoss: -0.662895\tSigma: [0.71978956 0.8386832 ]\n",
      "Train Epoch: 14 [12800/60000 (21%)]\tLoss: -0.212657\tSigma: [0.7196095 0.8385745]\n",
      "Train Epoch: 14 [25600/60000 (43%)]\tLoss: -0.523328\tSigma: [0.71943367 0.8384672 ]\n",
      "Train Epoch: 14 [38400/60000 (64%)]\tLoss: 0.389032\tSigma: [0.7192567 0.8383595]\n",
      "Train Epoch: 14 [51200/60000 (85%)]\tLoss: -0.540549\tSigma: [0.71908045 0.8382533 ]\n",
      "Train Epoch: 15 [0/60000 (0%)]\tLoss: -0.357589\tSigma: [0.7189602 0.8381802]\n",
      "Train Epoch: 15 [12800/60000 (21%)]\tLoss: -0.462270\tSigma: [0.71883774 0.8381046 ]\n",
      "Train Epoch: 15 [25600/60000 (43%)]\tLoss: -0.410493\tSigma: [0.7187155 0.8380264]\n",
      "Train Epoch: 15 [38400/60000 (64%)]\tLoss: -0.024470\tSigma: [0.71859366 0.8379486 ]\n",
      "Train Epoch: 15 [51200/60000 (85%)]\tLoss: -0.770345\tSigma: [0.71847224 0.8378703 ]\n"
     ]
    }
   ],
   "source": [
    "optimizer = optim.Adadelta(model.parameters(), lr=learning_rate)\n",
    "scheduler = StepLR(optimizer, step_size=1, gamma=gamma)\n",
    "train_losses = []\n",
    "params = []\n",
    "for epoch in range(1, num_epoches + 1):\n",
    "    \n",
    "    train_loss, param = train(model, device, train_loader, optimizer, epoch)\n",
    "    train_losses.append(train_loss)\n",
    "    params.append(param)\n",
    "\n",
    "    scheduler.step()"
   ]
  },
  {
   "cell_type": "code",
   "execution_count": 6,
   "metadata": {},
   "outputs": [
    {
     "data": {
      "image/png": "[encoded data removed]",
      "text/plain": [
       "<Figure size 432x576 with 1 Axes>"
      ]
     },
     "metadata": {
      "needs_background": "light"
     },
     "output_type": "display_data"
    },
    {
     "data": {
      "image/png": "[encoded data removed]",
      "text/plain": [
       "<Figure size 432x288 with 1 Axes>"
      ]
     },
     "metadata": {
      "needs_background": "light"
     },
     "output_type": "display_data"
    }
   ],
   "source": [
    "# Visualize the overall loss \n",
    "plt.figure(figsize=(6, 8))\n",
    "plt.subplot(211)\n",
    "plt.title('train loss')\n",
    "plt.plot(train_losses)\n",
    "plt.show()\n",
    "\n",
    "# Visualize the overall sigmas\n",
    "sigmas = np.sqrt(np.exp(params))\n",
    "\n",
    "plt.subplot(212)\n",
    "plt.title(r'$\\sigma_k$: ' + f'{sigmas[-1]}')\n",
    "plt.plot(sigmas[:, 0])\n",
    "plt.plot(sigmas[:, 1])\n",
    "plt.legend([r'$\\sigma_1$', r'$\\sigma_2$'])\n",
    "\n",
    "plt.tight_layout()\n",
    "plt.show()"
   ]
  }
 ],
 "metadata": {
  "interpreter": {
   "hash": "3b2cbf890e8f3765bc298c5c1dc4e81a8399330411f28d39ec51990032d20ebd"
  },
  "kernelspec": {
   "display_name": "Python 3.8.11 ('pytorch')",
   "language": "python",
   "name": "python3"
  },
  "language_info": {
   "codemirror_mode": {
    "name": "ipython",
    "version": 3
   },
   "file_extension": ".py",
   "mimetype": "text/x-python",
   "name": "python",
   "nbconvert_exporter": "python",
   "pygments_lexer": "ipython3",
   "version": "3.7.11"
  },
  "orig_nbformat": 4
 },
 "nbformat": 4,
 "nbformat_minor": 2
}
