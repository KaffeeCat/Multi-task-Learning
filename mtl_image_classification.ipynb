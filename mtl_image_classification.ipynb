{
 "cells": [
  {
   "cell_type": "code",
   "execution_count": 1,
   "metadata": {},
   "outputs": [],
   "source": [
    "import torch\n",
    "import torch.nn as nn\n",
    "import torch.nn.functional as F\n",
    "import torch.optim as optim\n",
    "from torchvision import datasets, transforms\n",
    "from torch.optim.lr_scheduler import StepLR\n",
    "from torchmtl import MTLModel\n",
    "from torchmtl.wrapping_layers import Concat\n",
    "import matplotlib.pyplot as plt\n",
    "import networkx as nx\n",
    "import numpy as np\n",
    "np.random.seed(0)\n",
    "torch.manual_seed(0)\n",
    "\n",
    "# Parameters\n",
    "batch_size = 64\n",
    "learning_rate = 0.02\n",
    "num_epoches = 15\n",
    "gamma = 0.7\n",
    "log_interval = 200"
   ]
  },
  {
   "cell_type": "code",
   "execution_count": 2,
   "metadata": {},
   "outputs": [],
   "source": [
    "# Load dataset\n",
    "transform = transforms.Compose(\n",
    "    [transforms.ToTensor(),\n",
    "    transforms.Normalize([0.5], [0.5])])\n",
    "\n",
    "train_dataset = datasets.MNIST(root='./data', train=True, transform=transform, download=True)\n",
    "test_dataset = datasets.MNIST(root='./data', train=False, transform=transform)\n",
    "train_loader = torch.utils.data.DataLoader(train_dataset, batch_size=batch_size, shuffle=True)\n",
    "test_loader = torch.utils.data.DataLoader(test_dataset, batch_size=batch_size, shuffle=False)"
   ]
  },
  {
   "cell_type": "code",
   "execution_count": 6,
   "metadata": {},
   "outputs": [
    {
     "name": "stdout",
     "output_type": "stream",
     "text": [
      "PyTorch will run on cuda device\n"
     ]
    },
    {
     "data": {
      "image/png": "[encoded data removed]",
      "text/plain": [
       "<Figure size 432x288 with 1 Axes>"
      ]
     },
     "metadata": {},
     "output_type": "display_data"
    }
   ],
   "source": [
    "# Define a loss function that returns the log vars\n",
    "class MultiTaskLossWrapper(nn.Module):\n",
    "    def __init__(self, num_tasks):\n",
    "        super(MultiTaskLossWrapper, self).__init__()\n",
    "        self.num_tasks = num_tasks\n",
    "        self.log_vars = nn.Parameter(torch.zeros((num_tasks)))\n",
    "\n",
    "    def forward(self, *X):\n",
    "        # Return the log vars so precision can be computed\n",
    "        # in the training loop. Also return the predictions.\n",
    "        return self.log_vars, X\n",
    "\n",
    "\n",
    "# Define MTL tasks\n",
    "tasks = [\n",
    "        {\n",
    "            'name': \"Backbone\",\n",
    "            'layers': nn.Sequential(*[\n",
    "                nn.Conv2d(1, 32, 3, 1), \n",
    "                nn.ReLU(),\n",
    "                nn.Conv2d(32, 64, 3, 1), \n",
    "                nn.ReLU(),\n",
    "                nn.MaxPool2d(2),\n",
    "                nn.Dropout(0.25),\n",
    "                nn.Flatten()\n",
    "                ]),\n",
    "            # No anchor_layer means this layer receives input directly\n",
    "        },    \n",
    "        {\n",
    "            'name': \"Head1\",\n",
    "            'layers': nn.Sequential(*[\n",
    "                nn.Linear(9216, 256), \n",
    "                nn.ReLU(), \n",
    "                nn.Dropout(0.5), \n",
    "                nn.Linear(256, 10), \n",
    "                nn.LogSoftmax(dim=1)\n",
    "                ]),\n",
    "            'anchor_layer': \"Backbone\"\n",
    "        },    \n",
    "        {\n",
    "            'name': \"Head2\",\n",
    "            'layers': nn.Sequential(*[\n",
    "                nn.Linear(9216, 32), \n",
    "                nn.ReLU(), \n",
    "                nn.Dropout(0.5), \n",
    "                nn.Linear(32, 10), \n",
    "                nn.LogSoftmax(dim=1)\n",
    "                ]),\n",
    "            'anchor_layer': \"Backbone\"\n",
    "        },\n",
    "        {\n",
    "            'name': \"MultiLoss\",\n",
    "            'layers': MultiTaskLossWrapper(num_tasks=2),\n",
    "            'anchor_layer': ['Head1', 'Head2']\n",
    "        }\n",
    "    ]\n",
    "\n",
    "device_name = \"cuda\" if torch.cuda.is_available() else \"cpu\"\n",
    "print(f\"PyTorch will run on {device_name} device\")\n",
    "device = torch.device(device_name)\n",
    "model = MTLModel(tasks, output_tasks=['MultiLoss']).to(device)\n",
    "\n",
    "\n",
    "# Visualize MTL architecture\n",
    "pos = nx.shell_layout(model.g)\n",
    "nx.draw(model.g, pos, font_size=14, node_color=\"c\", node_size=1000, with_labels=True)\n",
    "plt.show()"
   ]
  },
  {
   "cell_type": "code",
   "execution_count": 7,
   "metadata": {},
   "outputs": [],
   "source": [
    "def train(model, device, train_loader, optimizer, epoch):\n",
    "    model.train()\n",
    "    train_loss = 0\n",
    "    for batch_idx, (data, target) in enumerate(train_loader):\n",
    "\n",
    "        optimizer.zero_grad()\n",
    "\n",
    "        # Predict multi-task outputs\n",
    "        data, target = data.to(device), target.to(device)\n",
    "        multi_loss_out, _, _ = model(data)\n",
    "        log_vars = multi_loss_out[0][0]\n",
    "        softmax_out = multi_loss_out[0][1]\n",
    "        task_num = len(softmax_out)\n",
    "\n",
    "        # Compute loss of each task and weight them\n",
    "        loss = 0\n",
    "        for i in range(task_num):\n",
    "            precision = torch.exp(-log_vars[i])\n",
    "            diff = F.nll_loss(softmax_out[i], target)\n",
    "            loss += torch.sum(precision * diff + log_vars[i], -1)\n",
    "        loss = torch.mean(loss)\n",
    "        loss.backward()\n",
    "        optimizer.step()\n",
    "\n",
    "        train_loss += loss.item()\n",
    "        \n",
    "        log_vars = log_vars.cpu().detach().numpy().copy()\n",
    "        if batch_idx % log_interval == 0:\n",
    "            print('Train Epoch: {} [{}/{} ({:.0f}%)]\\tLoss: {:.6f}\\tSigma: {}'.format(\n",
    "                epoch, batch_idx * len(data), len(train_loader.dataset),\n",
    "                100. * batch_idx / len(train_loader), loss.item(), np.sqrt(np.exp(log_vars))))\n",
    "\n",
    "    return train_loss * train_loader.batch_size / len(train_loader.dataset), log_vars"
   ]
  },
  {
   "cell_type": "code",
   "execution_count": 8,
   "metadata": {},
   "outputs": [
    {
     "name": "stdout",
     "output_type": "stream",
     "text": [
      "Train Epoch: 1 [0/60000 (0%)]\tLoss: 4.611282\tSigma: [1.0000316 1.0000316]\n",
      "Train Epoch: 1 [12800/60000 (21%)]\tLoss: 1.282919\tSigma: [1.001812  1.0017271]\n",
      "Train Epoch: 1 [25600/60000 (43%)]\tLoss: 0.908389\tSigma: [0.9907899 0.9907445]\n",
      "Train Epoch: 1 [38400/60000 (64%)]\tLoss: 0.627635\tSigma: [0.9763501 0.9764846]\n",
      "Train Epoch: 1 [51200/60000 (85%)]\tLoss: 0.735088\tSigma: [0.9609696 0.9610913]\n",
      "Train Epoch: 2 [0/60000 (0%)]\tLoss: 0.626904\tSigma: [0.950018  0.9499206]\n",
      "Train Epoch: 2 [12800/60000 (21%)]\tLoss: 0.657504\tSigma: [0.9384384  0.93817693]\n",
      "Train Epoch: 2 [25600/60000 (43%)]\tLoss: 0.160518\tSigma: [0.92685676 0.92624944]\n",
      "Train Epoch: 2 [38400/60000 (64%)]\tLoss: 0.104373\tSigma: [0.9151188 0.9142412]\n",
      "Train Epoch: 2 [51200/60000 (85%)]\tLoss: 0.421693\tSigma: [0.9033646 0.9022407]\n",
      "Train Epoch: 3 [0/60000 (0%)]\tLoss: 0.431730\tSigma: [0.89527994 0.89394563]\n",
      "Train Epoch: 3 [12800/60000 (21%)]\tLoss: 0.102636\tSigma: [0.88709325 0.88550955]\n",
      "Train Epoch: 3 [25600/60000 (43%)]\tLoss: 0.250415\tSigma: [0.8785807 0.8768056]\n",
      "Train Epoch: 3 [38400/60000 (64%)]\tLoss: -0.001067\tSigma: [0.8702172 0.8682326]\n",
      "Train Epoch: 3 [51200/60000 (85%)]\tLoss: 0.024005\tSigma: [0.86196446 0.85971534]\n",
      "Train Epoch: 4 [0/60000 (0%)]\tLoss: 0.287661\tSigma: [0.8563258  0.85404783]\n",
      "Train Epoch: 4 [12800/60000 (21%)]\tLoss: 0.279463\tSigma: [0.8505797 0.8481652]\n",
      "Train Epoch: 4 [25600/60000 (43%)]\tLoss: 0.112296\tSigma: [0.84486115 0.8423211 ]\n",
      "Train Epoch: 4 [38400/60000 (64%)]\tLoss: -0.067530\tSigma: [0.8391584 0.8365153]\n",
      "Train Epoch: 4 [51200/60000 (85%)]\tLoss: -0.124980\tSigma: [0.83342725 0.83060706]\n",
      "Train Epoch: 5 [0/60000 (0%)]\tLoss: -0.013047\tSigma: [0.8294693 0.8265891]\n",
      "Train Epoch: 5 [12800/60000 (21%)]\tLoss: -0.134652\tSigma: [0.8254815  0.82252514]\n",
      "Train Epoch: 5 [25600/60000 (43%)]\tLoss: 0.002961\tSigma: [0.8214359  0.81838876]\n",
      "Train Epoch: 5 [38400/60000 (64%)]\tLoss: -0.137690\tSigma: [0.8174065 0.8143313]\n",
      "Train Epoch: 5 [51200/60000 (85%)]\tLoss: -0.186692\tSigma: [0.81330836 0.8101596 ]\n",
      "Train Epoch: 6 [0/60000 (0%)]\tLoss: -0.491430\tSigma: [0.81059766 0.80741644]\n",
      "Train Epoch: 6 [12800/60000 (21%)]\tLoss: -0.385098\tSigma: [0.80779564 0.80456734]\n",
      "Train Epoch: 6 [25600/60000 (43%)]\tLoss: -0.227343\tSigma: [0.8049874 0.8017733]\n",
      "Train Epoch: 6 [38400/60000 (64%)]\tLoss: -0.046379\tSigma: [0.8021571  0.79891765]\n",
      "Train Epoch: 6 [51200/60000 (85%)]\tLoss: -0.592292\tSigma: [0.7993896  0.79610777]\n",
      "Train Epoch: 7 [0/60000 (0%)]\tLoss: -0.564506\tSigma: [0.797513  0.7941871]\n",
      "Train Epoch: 7 [12800/60000 (21%)]\tLoss: -0.338978\tSigma: [0.79560655 0.7922028 ]\n",
      "Train Epoch: 7 [25600/60000 (43%)]\tLoss: -0.094662\tSigma: [0.79369205 0.7902111 ]\n",
      "Train Epoch: 7 [38400/60000 (64%)]\tLoss: -0.502780\tSigma: [0.79179186 0.7882398 ]\n",
      "Train Epoch: 7 [51200/60000 (85%)]\tLoss: -0.560753\tSigma: [0.78987134 0.7862623 ]\n",
      "Train Epoch: 8 [0/60000 (0%)]\tLoss: -0.207121\tSigma: [0.7885815 0.7849049]\n",
      "Train Epoch: 8 [12800/60000 (21%)]\tLoss: -0.419828\tSigma: [0.787282   0.78355855]\n",
      "Train Epoch: 8 [25600/60000 (43%)]\tLoss: -0.296624\tSigma: [0.78596824 0.78221416]\n",
      "Train Epoch: 8 [38400/60000 (64%)]\tLoss: -0.231131\tSigma: [0.7846626  0.78085357]\n",
      "Train Epoch: 8 [51200/60000 (85%)]\tLoss: -0.730481\tSigma: [0.7833226  0.77949536]\n",
      "Train Epoch: 9 [0/60000 (0%)]\tLoss: -0.806278\tSigma: [0.78240144 0.7785436 ]\n",
      "Train Epoch: 9 [12800/60000 (21%)]\tLoss: -0.072734\tSigma: [0.7814881 0.777612 ]\n",
      "Train Epoch: 9 [25600/60000 (43%)]\tLoss: -0.624344\tSigma: [0.7805834 0.7766813]\n",
      "Train Epoch: 9 [38400/60000 (64%)]\tLoss: -0.390245\tSigma: [0.7796762  0.77576226]\n",
      "Train Epoch: 9 [51200/60000 (85%)]\tLoss: -0.625182\tSigma: [0.7787843 0.7748301]\n",
      "Train Epoch: 10 [0/60000 (0%)]\tLoss: -0.478281\tSigma: [0.77816236 0.7741923 ]\n",
      "Train Epoch: 10 [12800/60000 (21%)]\tLoss: -0.713843\tSigma: [0.77753115 0.77353346]\n",
      "Train Epoch: 10 [25600/60000 (43%)]\tLoss: -0.519827\tSigma: [0.77690226 0.77287555]\n",
      "Train Epoch: 10 [38400/60000 (64%)]\tLoss: -0.801127\tSigma: [0.7762848 0.7722311]\n",
      "Train Epoch: 10 [51200/60000 (85%)]\tLoss: -0.576532\tSigma: [0.77566123 0.7715855 ]\n",
      "Train Epoch: 11 [0/60000 (0%)]\tLoss: -0.635755\tSigma: [0.77523273 0.7711424 ]\n",
      "Train Epoch: 11 [12800/60000 (21%)]\tLoss: -0.498276\tSigma: [0.77479374 0.77068627]\n",
      "Train Epoch: 11 [25600/60000 (43%)]\tLoss: -0.525169\tSigma: [0.7743404 0.7702309]\n",
      "Train Epoch: 11 [38400/60000 (64%)]\tLoss: -0.695531\tSigma: [0.77389336 0.7697758 ]\n",
      "Train Epoch: 11 [51200/60000 (85%)]\tLoss: -0.559597\tSigma: [0.7734374 0.7693146]\n",
      "Train Epoch: 12 [0/60000 (0%)]\tLoss: -0.218028\tSigma: [0.7731309 0.7690061]\n",
      "Train Epoch: 12 [12800/60000 (21%)]\tLoss: -0.650073\tSigma: [0.7728088 0.7686827]\n",
      "Train Epoch: 12 [25600/60000 (43%)]\tLoss: -0.528668\tSigma: [0.77249724 0.7683694 ]\n",
      "Train Epoch: 12 [38400/60000 (64%)]\tLoss: -0.476301\tSigma: [0.77219087 0.7680667 ]\n",
      "Train Epoch: 12 [51200/60000 (85%)]\tLoss: -0.610572\tSigma: [0.7718836 0.7677609]\n",
      "Train Epoch: 13 [0/60000 (0%)]\tLoss: -0.783595\tSigma: [0.77167165 0.7675483 ]\n",
      "Train Epoch: 13 [12800/60000 (21%)]\tLoss: 0.236548\tSigma: [0.77145624 0.7673321 ]\n",
      "Train Epoch: 13 [25600/60000 (43%)]\tLoss: -0.790035\tSigma: [0.77124184 0.76711273]\n",
      "Train Epoch: 13 [38400/60000 (64%)]\tLoss: -0.596227\tSigma: [0.7710249 0.766893 ]\n",
      "Train Epoch: 13 [51200/60000 (85%)]\tLoss: -0.784149\tSigma: [0.77081007 0.76667583]\n",
      "Train Epoch: 14 [0/60000 (0%)]\tLoss: 0.199328\tSigma: [0.7706594  0.76652175]\n",
      "Train Epoch: 14 [12800/60000 (21%)]\tLoss: -0.373663\tSigma: [0.77050406 0.76636666]\n",
      "Train Epoch: 14 [25600/60000 (43%)]\tLoss: -0.683653\tSigma: [0.7703517  0.76621515]\n",
      "Train Epoch: 14 [38400/60000 (64%)]\tLoss: -0.525658\tSigma: [0.77019924 0.7660628 ]\n",
      "Train Epoch: 14 [51200/60000 (85%)]\tLoss: -0.111594\tSigma: [0.77005404 0.7659145 ]\n",
      "Train Epoch: 15 [0/60000 (0%)]\tLoss: -0.137473\tSigma: [0.76995015 0.76580775]\n",
      "Train Epoch: 15 [12800/60000 (21%)]\tLoss: -0.517844\tSigma: [0.769848  0.7657027]\n",
      "Train Epoch: 15 [25600/60000 (43%)]\tLoss: -0.485391\tSigma: [0.76974255 0.76559514]\n",
      "Train Epoch: 15 [38400/60000 (64%)]\tLoss: -0.729941\tSigma: [0.7696382 0.765489 ]\n",
      "Train Epoch: 15 [51200/60000 (85%)]\tLoss: -0.538331\tSigma: [0.7695324 0.7653816]\n"
     ]
    }
   ],
   "source": [
    "optimizer = optim.Adadelta(model.parameters(), lr=learning_rate)\n",
    "scheduler = StepLR(optimizer, step_size=1, gamma=gamma)\n",
    "train_losses = []\n",
    "params = []\n",
    "for epoch in range(1, num_epoches + 1):\n",
    "    \n",
    "    train_loss, param = train(model, device, train_loader, optimizer, epoch)\n",
    "    train_losses.append(train_loss)\n",
    "    params.append(param)\n",
    "\n",
    "    scheduler.step()"
   ]
  },
  {
   "cell_type": "code",
   "execution_count": 9,
   "metadata": {},
   "outputs": [
    {
     "data": {
      "image/png": "[encoded data removed]",
      "text/plain": [
       "<Figure size 432x576 with 1 Axes>"
      ]
     },
     "metadata": {
      "needs_background": "light"
     },
     "output_type": "display_data"
    },
    {
     "data": {
      "image/png": "[encoded data removed]",
      "text/plain": [
       "<Figure size 432x288 with 1 Axes>"
      ]
     },
     "metadata": {
      "needs_background": "light"
     },
     "output_type": "display_data"
    }
   ],
   "source": [
    "# Visualize the overall loss \n",
    "plt.figure(figsize=(6, 8))\n",
    "plt.subplot(211)\n",
    "plt.title('train loss')\n",
    "plt.plot(train_losses)\n",
    "plt.show()\n",
    "\n",
    "# Visualize the overall sigmas\n",
    "sigmas = np.sqrt(np.exp(params))\n",
    "\n",
    "plt.subplot(212)\n",
    "plt.title(r'$\\sigma_k$: ' + f'{sigmas[-1]}')\n",
    "plt.plot(sigmas[:, 0])\n",
    "plt.plot(sigmas[:, 1])\n",
    "plt.legend([r'$\\sigma_1$', r'$\\sigma_2$'])\n",
    "\n",
    "plt.tight_layout()\n",
    "plt.show()"
   ]
  }
 ],
 "metadata": {
  "interpreter": {
   "hash": "3b2cbf890e8f3765bc298c5c1dc4e81a8399330411f28d39ec51990032d20ebd"
  },
  "kernelspec": {
   "display_name": "Python 3.8.11 ('pytorch')",
   "language": "python",
   "name": "python3"
  },
  "language_info": {
   "codemirror_mode": {
    "name": "ipython",
    "version": 3
   },
   "file_extension": ".py",
   "mimetype": "text/x-python",
   "name": "python",
   "nbconvert_exporter": "python",
   "pygments_lexer": "ipython3",
   "version": "3.7.11"
  },
  "orig_nbformat": 4
 },
 "nbformat": 4,
 "nbformat_minor": 2
}
